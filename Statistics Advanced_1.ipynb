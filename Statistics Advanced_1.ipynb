{
 "cells": [
  {
   "cell_type": "code",
   "execution_count": null,
   "id": "709ceb5e-f983-4130-85ab-f8f0f301c0c9",
   "metadata": {},
   "outputs": [],
   "source": [
    "#1 What is a random variable in probability theory?\n",
    "'''\n",
    "A random variable is a variable in probability theory whose value is determined by the outcome of a random experiment.\n",
    "Instead of being fixed, it can take on different values with certain probabilities. \n",
    "There are two main types: discrete random variables (which take countable values like 0, 1, 2, …) and continuous random variables (which take values from an interval,\n",
    "like heights or weights). Random variables help us connect real-world uncertain events with mathematical probability models. \n",
    "They are essential in statistics for defining distributions like Binomial, Normal, and Poisson. \n",
    "In short, a random variable assigns numerical values to outcomes of chance events.\n",
    "'''"
   ]
  },
  {
   "cell_type": "code",
   "execution_count": null,
   "id": "57b717dd-5dbd-463e-9220-035083b7d3b5",
   "metadata": {},
   "outputs": [],
   "source": [
    "#2 What are the types of random variables?\n",
    "'''\n",
    "There are mainly two types of random variables in probability theory:\n",
    "\n",
    "Discrete Random Variable – It takes a finite or countable set of values.\n",
    "Examples include the number of heads in 5 coin tosses or the number of students present in a class.\n",
    "Its probabilities are described using a Probability Mass Function (PMF).\n",
    "\n",
    "Continuous Random Variable – It can take infinitely many values within an interval. \n",
    "Examples include height, weight, or time. Its probabilities are described using a Probability Density Function (PDF).\n",
    "'''"
   ]
  },
  {
   "cell_type": "code",
   "execution_count": null,
   "id": "ad5b0195-74c8-4a1e-8359-ead311c254b3",
   "metadata": {},
   "outputs": [],
   "source": [
    "#3 Explain the difference between discrete and continuous distributions.\n",
    "'''\n",
    "A discrete distribution describes the probabilities of outcomes of a discrete random variable, which takes countable values.\n",
    "For example, rolling a die (outcomes 1 to 6) or the number of customers in a shop. Its probabilities are defined by a Probability Mass Function (PMF), and the sum of all probabilities is 1.\n",
    "\n",
    "A continuous distribution, on the other hand, is used for continuous random variables, which take uncountably infinite values within an interval (like height, weight, or time).\n",
    "Probabilities are defined using a Probability Density Function (PDF), and the probability of a specific point is 0, so we calculate probabilities over intervals.\n",
    "'''"
   ]
  },
  {
   "cell_type": "code",
   "execution_count": null,
   "id": "e06598f6-7fc0-43f7-83dc-213a20e1f501",
   "metadata": {},
   "outputs": [],
   "source": [
    "#4 What is a binomial distribution, and how is it used in probability?\n",
    "'''\n",
    "A binomial distribution is a discrete probability distribution that describes the number of successes in a fixed number of independent trials, where each trial has only two possible outcomes: success or failure.\n",
    "The probability of success is the same for every trial.\n",
    "Examples include tossing a coin multiple times or checking whether a product is defective or not.\n",
    "'''"
   ]
  },
  {
   "cell_type": "code",
   "execution_count": null,
   "id": "7fc7e1c3-07aa-4cb2-befb-f3e568fc57f7",
   "metadata": {},
   "outputs": [],
   "source": [
    "#5 What is the standard normal distribution, and why is it important?\n",
    "'''\n",
    "The standard normal distribution is a special case of the normal (bell-shaped) distribution with a mean (μ) = 0 and standard deviation (σ) = 1. Its curve is symmetric around zero, and the total area under the curve equals 1, representing all possible probabilities.\n",
    "\n",
    "It is important because many real-world data (like heights, test scores, or measurement errors) follow a normal pattern. By converting any normal distribution into the standard normal (using z-scores),\n",
    "we can easily compare different datasets and calculate probabilities using standard statistical tables.\n",
    "'''"
   ]
  },
  {
   "cell_type": "code",
   "execution_count": null,
   "id": "02ebe19c-c055-4eab-b513-e3d5e33b2a1c",
   "metadata": {},
   "outputs": [],
   "source": [
    "#6 What is the Central Limit Theorem (CLT), and why is it critical in statistics?\n",
    "'''\n",
    "The Central Limit Theorem (CLT) states that when we take a large number of random samples from any population with a finite mean and variance, \n",
    "the sampling distribution of the sample mean will approximate a normal distribution, regardless of the population’s original distribution.\n",
    "\n",
    "This theorem is critical because it allows statisticians to use normal probability models even when the data itself is not normally distributed.\n",
    "It justifies the use of many statistical techniques such as confidence intervals, hypothesis testing, and regression analysis.\n",
    "'''"
   ]
  },
  {
   "cell_type": "code",
   "execution_count": null,
   "id": "db7e42a0-0ba4-46ea-8326-501c667de7e3",
   "metadata": {},
   "outputs": [],
   "source": [
    "#7 What is the significance of confidence intervals in statistical analysis?\n",
    "'''\n",
    "A confidence interval (CI) is a range of values, calculated from sample data, that is likely to contain the true population parameter (like mean or proportion) with a certain level of confidence (e.g., 95%). Instead of giving just a single estimate, it provides an interval that reflects the uncertainty of sampling.\n",
    "\n",
    "The significance of confidence intervals is that they show both the estimate and the precision of that estimate. A narrower interval means more precision, while a wider one shows more uncertainty.\n",
    "\n",
    "Confidence intervals are important in statistical analysis because they help in decision-making, hypothesis testing, and understanding the reliability of sample results when making inferences about populations.\n",
    "'''"
   ]
  },
  {
   "cell_type": "code",
   "execution_count": null,
   "id": "cd1c4def-58a9-4281-b158-72b31d1866e2",
   "metadata": {},
   "outputs": [],
   "source": [
    "#8 What is the concept of expected value in a probability distribution?\n",
    "'''\n",
    "The expected value in a probability distribution is the long-run average or mean value of a random variable after many repetitions of an experiment. \n",
    "It represents the weighted average of all possible outcomes, where each outcome is multiplied by its probability.\n",
    "'''"
   ]
  },
  {
   "cell_type": "code",
   "execution_count": 1,
   "id": "4018d1ae-62e6-45fd-98ed-53396fbfa20e",
   "metadata": {},
   "outputs": [
    {
     "name": "stdout",
     "output_type": "stream",
     "text": [
      "Computed Mean: 49.95\n",
      "Computed Standard Deviation: 5.24\n"
     ]
    },
    {
     "data": {
      "image/png": "[encoded data removed]",
      "text/plain": [
       "<Figure size 640x480 with 1 Axes>"
      ]
     },
     "metadata": {},
     "output_type": "display_data"
    }
   ],
   "source": [
    "#9  Write a Python program to generate 1000 random numbers from a normal\n",
    "#distribution with mean = 50 and standard deviation = 5. Compute its mean and standard\n",
    "#deviation using NumPy, and draw a histogram to visualize the distribution.\n",
    "\n",
    "import numpy as np\n",
    "import matplotlib.pyplot as plt\n",
    "\n",
    "# Generate 1000 random numbers from a normal distribution\n",
    "mean = 50\n",
    "std_dev = 5\n",
    "data = np.random.normal(mean, std_dev, 1000)\n",
    "\n",
    "# Compute mean and standard deviation\n",
    "computed_mean = np.mean(data)\n",
    "computed_std = np.std(data)\n",
    "\n",
    "print(f\"Computed Mean: {computed_mean:.2f}\")\n",
    "print(f\"Computed Standard Deviation: {computed_std:.2f}\")\n",
    "\n",
    "# Draw a histogram\n",
    "plt.hist(data, bins=30, color='skyblue', edgecolor='black')\n",
    "plt.title(\"Histogram of Normal Distribution (mean=50, std=5)\")\n",
    "plt.xlabel(\"Value\")\n",
    "plt.ylabel(\"Frequency\")\n",
    "plt.show()\n",
    "\n"
   ]
  },
  {
   "cell_type": "code",
   "execution_count": 4,
   "id": "80a94c1d-923f-4dbc-9895-26d4cccb623b",
   "metadata": {},
   "outputs": [
    {
     "name": "stdout",
     "output_type": "stream",
     "text": [
      "Mean Sales: 248.25\n",
      "95% Confidence Interval: (240.68, 255.82)\n"
     ]
    }
   ],
   "source": [
    "''' 10 You are working as a data analyst for a retail company. The company has\n",
    "collected daily sales data for 2 years and wants you to identify the overall sales trend.\n",
    "daily_sales = [220, 245, 210, 265, 230, 250, 260, 275, 240, 255,\n",
    "235, 260, 245, 250, 225, 270, 265, 255, 250, 260]\n",
    "● Explain how you would apply the Central Limit Theorem to estimate the average sales\n",
    "with a 95% confidence interval.\n",
    "● Write the Python code to compute the mean sales and its confidence interval.\n",
    "'''\n",
    "#To estimate the average daily sales, we can apply the Central Limit Theorem (CLT). CLT states that the sampling distribution of the sample mean will be approximately normal\n",
    "#if we take sufficiently large random samples. \n",
    "#Using this, we can calculate a 95% confidence interval for the true mean sales. \n",
    "#This interval gives a range where we expect the actual average daily sales to lie, with 95% certainty.\n",
    "\n",
    "import numpy as np\n",
    "from scipy import stats\n",
    "\n",
    "daily_sales = [220, 245, 210, 265, 230, 250, 260, 275, 240, 255,\n",
    "               235, 260, 245, 250, 225, 270, 265, 255, 250, 260]\n",
    "\n",
    "# Sample statistics\n",
    "mean_sales = np.mean(daily_sales)\n",
    "std_sales = np.std(daily_sales, ddof=1)  # sample standard deviation\n",
    "n = len(daily_sales)\n",
    "\n",
    "# 95% confidence interval\n",
    "confidence_level = 0.95\n",
    "z = stats.norm.ppf(0.975)  # two-tailed\n",
    "margin_of_error = z * (std_sales / np.sqrt(n))\n",
    "ci_lower = mean_sales - margin_of_error\n",
    "ci_upper = mean_sales + margin_of_error\n",
    "\n",
    "print(f\"Mean Sales: {mean_sales:.2f}\")\n",
    "print(f\"95% Confidence Interval: ({ci_lower:.2f}, {ci_upper:.2f})\")\n"
   ]
  },
  {
   "cell_type": "code",
   "execution_count": null,
   "id": "dc135af4-3874-46f9-a2b7-40c258914c90",
   "metadata": {},
   "outputs": [],
   "source": []
  }
 ],
 "metadata": {
  "kernelspec": {
   "display_name": "Python 3 (ipykernel)",
   "language": "python",
   "name": "python3"
  },
  "language_info": {
   "codemirror_mode": {
    "name": "ipython",
    "version": 3
   },
   "file_extension": ".py",
   "mimetype": "text/x-python",
   "name": "python",
   "nbconvert_exporter": "python",
   "pygments_lexer": "ipython3",
   "version": "3.13.7"
  }
 },
 "nbformat": 4,
 "nbformat_minor": 5
}
